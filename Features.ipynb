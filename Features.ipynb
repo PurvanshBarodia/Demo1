{
  "nbformat": 4,
  "nbformat_minor": 0,
  "metadata": {
    "colab": {
      "name": "Features.ipynb",
      "provenance": [],
      "collapsed_sections": [],
      "authorship_tag": "ABX9TyPgYQVKab9AgOOF/1VuvpwC",
      "include_colab_link": true
    },
    "kernelspec": {
      "name": "python3",
      "display_name": "Python 3"
    },
    "language_info": {
      "name": "python"
    }
  },
  "cells": [
    {
      "cell_type": "markdown",
      "metadata": {
        "id": "view-in-github",
        "colab_type": "text"
      },
      "source": [
        "<a href=\"https://colab.research.google.com/github/PurvanshBarodia/Demo1/blob/main/Features.ipynb\" target=\"_parent\"><img src=\"https://colab.research.google.com/assets/colab-badge.svg\" alt=\"Open In Colab\"/></a>"
      ]
    },
    {
      "cell_type": "markdown",
      "metadata": {
        "id": "52p6tullOqWl"
      },
      "source": [
        "Extracting features from data"
      ]
    },
    {
      "cell_type": "markdown",
      "metadata": {
        "id": "e1_AfjEzWHM0"
      },
      "source": [
        "We observe that the bigrams are similar across different topics but different across languages. Thus, the bigram frequency is a good feature for distinguishing languages, but not for distinguishing topics. \n",
        "\n",
        "Thus, we were able to convert a many-dimensional input (the text) to 26 dimesions (unigrams) or 26*26 dimensions (bigrams).\n",
        "\n",
        "\n",
        "A few ways to explore:\n",
        "1. Try with different languages.\n",
        "2. The topics we used are quite similar, wikipedia articles of 'elephant' and 'giraffe'. What happens if we use very different topics? What if we use text from another source than Wikipedia?\n",
        "3. How can we use and visualize trigrams and higher n-grams?"
      ]
    },
    {
      "cell_type": "markdown",
      "metadata": {
        "id": "Ar3gw4Znon49"
      },
      "source": [
        ""
      ]
    },
    {
      "cell_type": "code",
      "metadata": {
        "colab": {
          "base_uri": "https://localhost:8080/"
        },
        "id": "oUqUS_QpovVl",
        "outputId": "9f47812e-3712-4952-80c3-0f3879e3e437"
      },
      "source": [
        "! pip install wikipedia\n",
        "\n",
        "import wikipedia\n",
        "import nltk\n",
        "from nltk.util import ngrams\n",
        "from collections import Counter\n",
        "import matplotlib.pyplot as plt\n",
        "import numpy as np\n",
        "import re\n",
        "import unicodedata\n",
        "import numpy as np\n",
        "import plotly.express as px\n",
        "import pandas as pd\n"
      ],
      "execution_count": null,
      "outputs": [
        {
          "output_type": "stream",
          "name": "stdout",
          "text": [
            "Collecting wikipedia\n",
            "  Downloading wikipedia-1.4.0.tar.gz (27 kB)\n",
            "Requirement already satisfied: beautifulsoup4 in /usr/local/lib/python3.7/dist-packages (from wikipedia) (4.6.3)\n",
            "Requirement already satisfied: requests<3.0.0,>=2.0.0 in /usr/local/lib/python3.7/dist-packages (from wikipedia) (2.23.0)\n",
            "Requirement already satisfied: chardet<4,>=3.0.2 in /usr/local/lib/python3.7/dist-packages (from requests<3.0.0,>=2.0.0->wikipedia) (3.0.4)\n",
            "Requirement already satisfied: idna<3,>=2.5 in /usr/local/lib/python3.7/dist-packages (from requests<3.0.0,>=2.0.0->wikipedia) (2.10)\n",
            "Requirement already satisfied: certifi>=2017.4.17 in /usr/local/lib/python3.7/dist-packages (from requests<3.0.0,>=2.0.0->wikipedia) (2021.5.30)\n",
            "Requirement already satisfied: urllib3!=1.25.0,!=1.25.1,<1.26,>=1.21.1 in /usr/local/lib/python3.7/dist-packages (from requests<3.0.0,>=2.0.0->wikipedia) (1.24.3)\n",
            "Building wheels for collected packages: wikipedia\n",
            "  Building wheel for wikipedia (setup.py) ... \u001b[?25l\u001b[?25hdone\n",
            "  Created wheel for wikipedia: filename=wikipedia-1.4.0-py3-none-any.whl size=11696 sha256=3fcd9697f7b80caab79c53a9a78a31d383e3e8e6e9ab83d1e1e02b13899c657d\n",
            "  Stored in directory: /root/.cache/pip/wheels/15/93/6d/5b2c68b8a64c7a7a04947b4ed6d89fb557dcc6bc27d1d7f3ba\n",
            "Successfully built wikipedia\n",
            "Installing collected packages: wikipedia\n",
            "Successfully installed wikipedia-1.4.0\n"
          ]
        }
      ]
    },
    {
      "cell_type": "code",
      "metadata": {
        "id": "iitkr0ZGnYDQ"
      },
      "source": [
        "# Esperanto Vs Portugeas\n",
        "\n",
        "topic1 = 'Giraffe Animal'\n",
        "topic2 = 'Elephant Animal'\n",
        "wikipedia.set_lang('es') \n",
        "esp1 = wikipedia.page(topic1).content\n",
        "esp2 = wikipedia.page(topic2).content\n",
        "wikipedia.set_lang('pt')\n",
        "pt1 = wikipedia.page(topic1).content\n",
        "pt2 = wikipedia.page(topic2).content"
      ],
      "execution_count": null,
      "outputs": []
    },
    {
      "cell_type": "code",
      "metadata": {
        "colab": {
          "base_uri": "https://localhost:8080/",
          "height": 137
        },
        "id": "dHFG7HAyp21a",
        "outputId": "f0ce5e5c-5378-48b5-d34f-9e9326b535cf"
      },
      "source": [
        "esp1"
      ],
      "execution_count": null,
      "outputs": [
        {
          "output_type": "execute_result",
          "data": {
            "application/vnd.google.colaboratory.intrinsic+json": {
              "type": "string"
            },
            "text/plain": [
              "'La Jirafa reticulada (Giraffa reticulata), más conocida comúnmente como jirafa borracha, es una subespecie de jirafa nativa de Somalia, norte de Kenia y sur de Etiopía. Con base en estudios genéticos algunos la consideran una especie.[1]\\u200b Las jirafas reticuladas pueden cruzarse con otras subespecies de jirafa en cautiverio o si entran en contacto con poblaciones de otras subespecies en la naturaleza.\\nLa jirafa reticulada es una de las más conocidas subespecies de jirafa, y junto con la jirafa de Rothschild es, con mucho, la jirafa más comúnmente vista en zoológicos.[2]\\u200b Su pelaje está formado por grandes manchas poligoninales de color hígado descritos por una red de líneas blancas brillantes. En bloques a veces puede aparecer de color rojo oscuro y también puede cubrir las piernas. La extraordinaria altura de las jirafas se atribuye a un ritual conocido como \"estrangulamiento\" en el que dos machos luchan por los derechos de reproducción al estrellar sus cuellos entre sí. Las jirafas con los cuellos más altos y fuertes salen victoriosas y se reproducen, por lo que pasan estos genes a las generaciones siguientes.[3]\\u200b\\n\\n\\n== Hábitat ==\\nLas jirafas se encuentran en África, en los cotos de caza y parques naturales. Apenas se encuentran en la naturaleza debido a la caza furtiva y el sobre desarrollo de los seres humanos. Las jirafas se suelen encontrar en todas partes de África, excepto el norte de África. La vegetación es muy escasa y la tierra está demasiado poblada para dar cabida a esta especie.[4]\\u200b Las jirafas prefieren las sabanas abiertas, pero a veces se aventuran en áreas boscosas. Fácilmente se pueden camuflar al esconderse entre los árboles.\\n\\n\\n== Dieta ==\\nLas jirafas reticuladas son herbívoros, ya que se alimentan principalmente de plantas, a pesar de que han sido vistas comiendo el cadáver de un antílope.[4]\\u200b La comida favorita de una jirafa son los arbustos y los árboles de acacia que frecuentan el paisaje africano. Mientras que estas hojas son las preferidas, una jirafa mastica muchos otros tipos de vegetación. Las preferencias alimentarias de las jirafas cambian según las estaciones: en la estación seca, que parecen estar satisfechas con el pino.[4]\\u200b Las jirafas se alimentan de forma constante, que significa que comen continuamente durante todo el día. Un macho es capaz de comer 75 libras de alimentos en un solo día.[5]\\u200b Las jirafas usar su sentido del olfato para localizar las hojas que quieren. Ingieren todo lo de rama de la hora de comer, incluidos los insectos, la corteza, y las espinas. La jirafa usa la lengua masiva (hasta dieciocho pulgadas de largo) para raspar la hoja.[4]\\u200b Las jirafas tienen los labios muy duros para protegerse contra el rayado.\\nMientras que el árbol de acacia es el favorito de la jirafa, también son conocidas por comer bayas y otras frutas.[5]\\u200b Las jirafas tienen entrado en estado de embriaguez después de comer bayas, ya que algunas fermentan en el estómago.[5]\\u200b Las jirafas reticuladas son rumiantes, al igual que las vacas y otros ungulados. Como se explica en Stattler Jirafas, Los Centinelas de la Sabana, el estómago de la jirafa tiene cuatro partes, con lo que la comida pasa a través de la primera y el agua va directamente a la segunda. El primer estómago digiere parcialmente las ramitas, hojas y cualquier otra cosa que la jirafa haya ingerido entera. Durante el día, cuando el animal no se alimenta, las partes de esta mezcla fermentada se traen de vuelta desde el estómago en terrones duros. Las jirafas mastican estas protuberancias, llamadas bolo, durante todo el día, ayudando a romper aún más la comida. Una vez que se realiza la masticación en la mandíbula del rumiante, se envía al tercer estómago, y finalmente el cuarto estómago sirve para ser digerir completamente.[5]\\u200b \\nLas jirafas son muy buenas en la conservación del agua en el clima africano caliente. Son capaces de conservar y mantener la temperatura de su cuerpo, en parte debido a su forma ya que sus largas y delgadas permiten liberar rápidamente el calor.[5]\\u200b Las hojas que comen son en realidad una buena fuente de agua, y les permiten pasar días enteros sin beber un sorbo de agua.[6]\\u200b Las jirafas tienen dificultades a la hora de hacer que sus enormes cabezas desciendan hacia el suelo para beber, y eso también las hace vulnerables a los depredadores. Son capaces de doblarse por la difusión de sus patas delanteras y estirando su cuello hacia abajo.\\n\\n\\n== Cuello ==\\nLa razón comúnmente aceptada por la que las jirafas tienen cuellos tan largos fue propuesta por Charles Darwin en 1871. Darwin extrajo su idea de muchos habitantes de África, quienes dijeron que la jirafa desarrolló su largo cuello para alcanzar las copas de los árboles, donde residen las mejores hojas.[3]\\u200b Esto representa una posible ventaja para la jirafa que se alimentan de las hojas principales.\\nSin embargo, esta teoría ha sido cuestionada por Simmons. En su investigación, Simmons descubrió que las jirafas se alimentan principalmente al nivel del hombro, sin llegar a las copas de los árboles en absoluto. Sólo llegar a la cima del árbol durante la estación lluviosa. También descubrió que de todas las jirafas estudiadas, sólo las de Sudáfrica se alimentaban de las hojas que estaban fuera del alcance de otros animales. Esto presenta un problema a la teoría de los cuellos largos como una ventaja en la alimentación.\\nUna teoría alternativa tiene que ver con los rituales de apareamiento y la selección sexual. Las jirafas suelen encontrar pareja a través de una técnica conocida como \"estrangulamiento\". Los machos se ponen uno junto al otro y sus cuellos pivotan violentamente entre sí. Cualquiera que sea la jirafa usa su cuello y la cabeza más eficaz y se mantiene en pie, y el más largo es declarado ganador y se le permite copular con la hembra. La hipótesis de Robert Simmons es que las jirafas con el cuello más largo y fuerte serían las que tienen más probabilidades de ganar el combate de \"estrangulamiento\".[3]\\u200b\\n\\n\\n== Reproducción ==\\nUna vez preñada, una jirafa hembra tiene un período de gestación de unos 15 meses y por lo general sólo tiene una cría de cada vez, pero puede tener hasta ocho a lo largo de su vida.[6]\\u200b Las hembras regresan al mismo lugar cada año para parir a sus crías.[6]\\u200b Las jirafas pueden tener hijos en todo momento durante el año, pero la mayoría de los nacimientos se producen durante la estación seca.[7]\\u200b Al nacer, las jirafas caen desde siete pies de altura al suelo, ya que la madre pare de pie.[8]\\u200b Las crías de jirafa pueden llegar a pesar hasta 100 kilos al nacer, y llegar a medir 6 pies de altura.[8]\\u200b Un bebé jirafa puede ponerse de pie menos de media hora después de nacer, y son capaces de alimentarse de la leche materna. Se sigue alimentando de la leche hasta que esté cerca de un año de edad.[8]\\u200b Pueden crecer 9 pulgadas durante el primer mes, y continuarán creciendo a un ritmo enorme durante el primer año.[4]\\u200b Después de eso, el crecimiento se reduce a menos de una pulgada por año. Las jirafas son un animal muy orientado a la manada, e incluso le confían el cuidado de sus crías a la multitud.[7]\\u200b Las hembras comienzan a reproducirse en unos 4 años, y los machos a 10 años.[8]\\u200b\\n\\n\\n== Depredadores y amenazas ==\\nDebido a su tamaño enorme y su capacidad para detectar el peligro, la jirafa tiene pocos depredadores. A menos que la jirafa sea un recién nacido durmiendo, o bebiendo, no son blanco de agresiones como alimento. Las jirafas han sido cazadas por leones y cocodrilos.[4]\\u200b Los seres humanos son una amenaza muy real a la jirafa, aunque se están haciendo esfuerzos para ayudar a conservarlos. Las jirafas son asesinadas por los cazadores furtivos por su pelo y su piel. Las jirafas tienen un pelaje muy grueso y resistente que es muy buscado para las pulseras y la cuerda. Algunas aldeas en Sudán se come carne de jirafa.[8]\\u200b En la actualidad, hay cerca de 100.000 jirafas itinerando África, aunque algunas subespecies han desaparecido casi por completo, con menos de 100 individuos.[9]\\u200b Las jirafas tienen que hacer frente a la mosca tsetsé, que se posan en ellas y les chupan la sangre. La mosca tsetsé es también portador de la enfermedad del sueño, una enfermedad peligrosa para los seres humanos.[8]\\u200b Las jirafas pueden utilizar sus poderosas colas para espantar las moscas y obtener algo de alivio de la plaga. Las jirafas tienen una relación simbiótica con algunos tipos de aves, especialmente con el búfago. Estas pequeñas aves se posan sobre las espaldas de la jirafa, y la alertan de los posibles depredadores. Los búfagos también comen ácaros y el polvo de la jirafa, manteniéndola limpia.[4]\\u200b Sin embargo, el búfago puede irritar las heridas producidas por peleas entre machos. Las epidemias han afectado también a la jirafa. La peor de todas, según la científico Ana Dagg, fue la peste bovina, que mató a cientos de jirafas en la década de 1880. La epidemia sigue resurgiendo en pequeñas ráfagas. Una en la década de 1960 acabó con la mitad de la población de jirafas de Kenia.[4]\\u200b\\n\\n\\n== Referencias ==\\n\\n\\n== Enlaces externos ==\\n Wikispecies tiene un artículo sobre Giraffa reticulata.\\n Wikimedia Commons alberga una categoría multimedia sobre Giraffa reticulata.\\nCheyenne Mountain Zoo Giraffe Cam\\nSaint Louis Zoo, Reticulated Giraffe\\nThe BIG zoo\\nSaint Louis Zoo Article'"
            ]
          },
          "metadata": {},
          "execution_count": 6
        }
      ]
    },
    {
      "cell_type": "code",
      "metadata": {
        "id": "IMFT9Z9grIfR"
      },
      "source": [
        "def cleanup(text):\n",
        "  text = text.lower()  # make it lowercase\n",
        "  text = re.sub('[^a-z]+', '', text) # only keep characters\n",
        "  return text"
      ],
      "execution_count": null,
      "outputs": []
    },
    {
      "cell_type": "code",
      "metadata": {
        "id": "3vv2b3vzrS3f"
      },
      "source": [
        "esp1 = cleanup(esp1)\n",
        "esp2 = cleanup(esp2)\n",
        "pt1 = cleanup(pt1)\n",
        "pt2 = cleanup(pt2)\n"
      ],
      "execution_count": null,
      "outputs": []
    },
    {
      "cell_type": "code",
      "metadata": {
        "id": "w0I1aZMerl-9"
      },
      "source": [
        "# convert a tuple of characters to a string\n",
        "def tuple2string(tup):\n",
        "  st = ''\n",
        "  for ii in tup:\n",
        "    st = st + ii\n",
        "  return st\n",
        "\n",
        "# convert a tuple of tuples to a list of strings\n",
        "def key2string(keys):\n",
        "  return [tuple2string(i) for i in keys]\n",
        "\n",
        "# plot the histogram\n",
        "def plothistogram(ngram):\n",
        "  keys = key2string(ngram.keys()) \n",
        "  values = list(ngram.values())\n",
        "  \n",
        "  # sort the keys in alphabetic order\n",
        "  combined = zip(keys, values)\n",
        "  zipped_sorted = sorted(combined, key=lambda x: x[0])\n",
        "  keys, values = map(list, zip(*zipped_sorted))\n",
        "  plt.bar(keys, values)"
      ],
      "execution_count": null,
      "outputs": []
    },
    {
      "cell_type": "code",
      "metadata": {
        "colab": {
          "base_uri": "https://localhost:8080/",
          "height": 390
        },
        "id": "2HirGrvorx8x",
        "outputId": "b749f50c-1d18-4c38-98ed-34918261eb8b"
      },
      "source": [
        "# Let's Compare unigram of  diffrent topic within same lang\n",
        "# to see it is a better option to distingvish between two topics or not.\n",
        "plt.figure(figsize=(10,6))\n",
        "unigram_esp1 = Counter(ngrams(esp1,1))\n",
        "plt.subplot(1,2,1)\n",
        "plothistogram(unigram_esp1)\n",
        "plt.title('Esperanto 1')\n",
        "plt.subplot(1,2,2)\n",
        "unigram_esp2 = Counter(ngrams(esp2,1))\n",
        "plothistogram(unigram_esp2)\n",
        "plt.title('Esperanto 2')\n",
        "plt.show()"
      ],
      "execution_count": null,
      "outputs": [
        {
          "output_type": "display_data",
          "data": {
            "image/png": "[encoded data removed]",
            "text/plain": [
              "<Figure size 720x432 with 2 Axes>"
            ]
          },
          "metadata": {
            "needs_background": "light"
          }
        }
      ]
    },
    {
      "cell_type": "code",
      "metadata": {
        "id": "D0S2kqNKtGZl"
      },
      "source": [
        "# Now Same thing for portugease\n"
      ],
      "execution_count": null,
      "outputs": []
    },
    {
      "cell_type": "code",
      "metadata": {
        "colab": {
          "base_uri": "https://localhost:8080/",
          "height": 390
        },
        "id": "5qks3TpnsPlM",
        "outputId": "684a37da-3b45-4524-b3ef-f6b887504531"
      },
      "source": [
        "plt.figure(figsize=(10,6))\n",
        "unigram_pt1 = Counter(ngrams(pt1,1))\n",
        "plt.subplot(1,2,1)\n",
        "plothistogram(unigram_pt1)\n",
        "plt.title('Portuguese 1')\n",
        "plt.subplot(1,2,2)\n",
        "unigram_pt2 = Counter(ngrams(pt2,1))\n",
        "plothistogram(unigram_pt2)\n",
        "plt.title('Portuguese 2')\n",
        "plt.show()"
      ],
      "execution_count": null,
      "outputs": [
        {
          "output_type": "display_data",
          "data": {
            "image/png": "[encoded data removed]",
            "text/plain": [
              "<Figure size 720x432 with 2 Axes>"
            ]
          },
          "metadata": {
            "needs_background": "light"
          }
        }
      ]
    },
    {
      "cell_type": "code",
      "metadata": {
        "id": "A1jGaQbxtmq6"
      },
      "source": [
        "# As we can see for both lang unigram for diffrent topics looks similar. So it is not a good feature for that.\n",
        "#### It can might be because of we have taken similar type of data. (we will decide same thing for diffrent type of data in section2)\n",
        "\n",
        "# Now try to do thia for same topic and diffrent lang"
      ],
      "execution_count": null,
      "outputs": []
    },
    {
      "cell_type": "code",
      "metadata": {
        "colab": {
          "base_uri": "https://localhost:8080/",
          "height": 281
        },
        "id": "xrdHAxGZuSbT",
        "outputId": "4b4b632c-290a-4452-d445-25cc4077d612"
      },
      "source": [
        "# For Topic 1\n",
        "\n",
        "unigram_esp1 = Counter(ngrams(esp1,1))\n",
        "plt.subplot(1,2,1)\n",
        "plothistogram(unigram_esp1)\n",
        "plt.title('Esperanto 1')\n",
        "plt.subplot(1,2,2)\n",
        "unigram_pt1 = Counter(ngrams(pt1,1))\n",
        "plothistogram(unigram_pt1)\n",
        "plt.title('Portuguese 1')\n",
        "plt.show()"
      ],
      "execution_count": null,
      "outputs": [
        {
          "output_type": "display_data",
          "data": {
            "image/png": "[encoded data removed]",
            "text/plain": [
              "<Figure size 432x288 with 2 Axes>"
            ]
          },
          "metadata": {
            "needs_background": "light"
          }
        }
      ]
    },
    {
      "cell_type": "code",
      "metadata": {
        "colab": {
          "base_uri": "https://localhost:8080/",
          "height": 281
        },
        "id": "81_L8i-nujJu",
        "outputId": "672ab915-1ed8-4c08-9314-4db58cd0802b"
      },
      "source": [
        "# For Topic 2\n",
        "unigram_esp2 = Counter(ngrams(esp2,1))\n",
        "plt.subplot(1,2,1)\n",
        "plothistogram(unigram_esp2)\n",
        "plt.title('Esparanto 2')\n",
        "plt.subplot(1,2,2)\n",
        "unigram_pt2 = Counter(ngrams(pt2,1))\n",
        "plothistogram(unigram_pt2)\n",
        "plt.title('Portuguese 2')\n",
        "plt.show()\n"
      ],
      "execution_count": null,
      "outputs": [
        {
          "output_type": "display_data",
          "data": {
            "image/png": "[encoded data removed]",
            "text/plain": [
              "<Figure size 432x288 with 2 Axes>"
            ]
          },
          "metadata": {
            "needs_background": "light"
          }
        }
      ]
    },
    {
      "cell_type": "code",
      "metadata": {
        "id": "jlCgdtWMv7BE"
      },
      "source": [
        "# Above Four graphs tells we will fail to distinguish between two language for same topic, if we use unigram as our feature."
      ],
      "execution_count": null,
      "outputs": []
    },
    {
      "cell_type": "markdown",
      "metadata": {
        "id": "_drHBTkVxh3q"
      },
      "source": [
        "Results based on comperission done between two topics and three lang tells unibin is not a good feature either in deciding language or a topic."
      ]
    },
    {
      "cell_type": "markdown",
      "metadata": {
        "id": "MNY0_fAFx8g3"
      },
      "source": [
        "The topics we used are quite similar, wikipedia articles of 'elephant' and 'giraffe'. What happens if we use very different topics? What if we use text from another source than Wikipedia?"
      ]
    },
    {
      "cell_type": "code",
      "metadata": {
        "id": "K6Cz49V0yiNK"
      },
      "source": [
        "# Let's take\n",
        "topic1 = 'Stock Market'           # Here we have taken very different topics\n",
        "topic2 = 'Electronic Circuit'     # Let's see whather it gave same conclusion as above or suggest something different\n",
        "wikipedia.set_lang('es') \n",
        "esp1 = wikipedia.page(topic1).content\n",
        "esp2 = wikipedia.page(topic2).content\n",
        "wikipedia.set_lang('pt')\n",
        "pt1 = wikipedia.page(topic1).content\n",
        "pt2 = wikipedia.page(topic2).content"
      ],
      "execution_count": null,
      "outputs": []
    },
    {
      "cell_type": "code",
      "metadata": {
        "id": "MNdQbc-n4qqv"
      },
      "source": [
        "esp1 = cleanup(esp1)\n",
        "esp2 = cleanup(esp2)\n",
        "pt1 = cleanup(pt1)\n",
        "pt2 = cleanup(pt2)"
      ],
      "execution_count": null,
      "outputs": []
    },
    {
      "cell_type": "code",
      "metadata": {
        "colab": {
          "base_uri": "https://localhost:8080/",
          "height": 281
        },
        "id": "L3YK-HjU5kPY",
        "outputId": "1fbca159-67e3-4221-a155-496575464af6"
      },
      "source": [
        "# Let's Compare unigram of  diffrent topic within same lang\n",
        "# to see it is a better option to distingvish between two topics\n",
        "\n",
        "unigram_esp1 = Counter(ngrams(esp1,1))\n",
        "plt.subplot(1,2,1)\n",
        "plothistogram(unigram_esp1)\n",
        "plt.title('Esparanto 1')\n",
        "plt.subplot(1,2,2)\n",
        "unigram_esp2 = Counter(ngrams(esp2,1))\n",
        "plothistogram(unigram_esp2)\n",
        "plt.title('Esparanto 2')\n",
        "plt.show()"
      ],
      "execution_count": null,
      "outputs": [
        {
          "output_type": "display_data",
          "data": {
            "image/png": "[encoded data removed]",
            "text/plain": [
              "<Figure size 432x288 with 2 Axes>"
            ]
          },
          "metadata": {
            "needs_background": "light"
          }
        }
      ]
    },
    {
      "cell_type": "code",
      "metadata": {
        "colab": {
          "base_uri": "https://localhost:8080/",
          "height": 390
        },
        "id": "NGroqRyf5tG5",
        "outputId": "03646c07-a066-4db8-c970-4d9f92499553"
      },
      "source": [
        "plt.figure(figsize=(10,6))\n",
        "unigram_esp1 = Counter(ngrams(esp1,1))\n",
        "plt.subplot(3,3,1)\n",
        "plothistogram(unigram_esp1)\n",
        "plt.title('Esperanto 1')\n",
        "plt.subplot(3,3,3)\n",
        "unigram_pt1 = Counter(ngrams(pt1,1))\n",
        "plothistogram(unigram_pt1)\n",
        "plt.title('Portuguese 1')\n",
        "plt.subplot(3,3,7)\n",
        "unigram_esp2 = Counter(ngrams(esp2,1))\n",
        "plothistogram(unigram_esp2)\n",
        "plt.title('Esperanto 2')\n",
        "plt.subplot(3,3,9)\n",
        "unigram_pt2 = Counter(ngrams(pt2,1))\n",
        "plothistogram(unigram_pt2)\n",
        "plt.title('Portuguese 2')\n",
        "plt.show()"
      ],
      "execution_count": null,
      "outputs": [
        {
          "output_type": "display_data",
          "data": {
            "image/png": "[encoded data removed]",
            "text/plain": [
              "<Figure size 720x432 with 4 Axes>"
            ]
          },
          "metadata": {
            "needs_background": "light"
          }
        }
      ]
    },
    {
      "cell_type": "markdown",
      "metadata": {
        "id": "pHYzW3zg9i3U"
      },
      "source": [
        "However we have choosen very diffrent topic we came at conclusion same as before that to distinguish try to use other than unigram."
      ]
    },
    {
      "cell_type": "markdown",
      "metadata": {
        "id": "9eyG8Pc4f16u"
      },
      "source": [
        "Let's Do it for Bigram"
      ]
    },
    {
      "cell_type": "code",
      "metadata": {
        "id": "alNYMfonhPyS"
      },
      "source": [
        "bigram_esp1 = Counter(ngrams(esp1,2)) # bigrams\n",
        "\n",
        "bigram_esp2 = Counter(ngrams(esp2,2))\n",
        "\n",
        "bigram_pt1 = Counter(ngrams(pt1,2))\n",
        "\n",
        "bigram_pt2 = Counter(ngrams(pt2,2))"
      ],
      "execution_count": null,
      "outputs": []
    },
    {
      "cell_type": "code",
      "metadata": {
        "id": "LLuX7VBKgFqO"
      },
      "source": [
        "def plotbihistogram(ngram):\n",
        "  freq = np.zeros((26,26))\n",
        "  for ii in range(26):\n",
        "    for jj in range(26):\n",
        "      freq[ii,jj] = ngram[(chr(ord('a')+ii), chr(ord('a')+jj))]\n",
        "  plt.imshow(freq, cmap = 'jet')\n",
        "  return freq"
      ],
      "execution_count": null,
      "outputs": []
    },
    {
      "cell_type": "code",
      "metadata": {
        "colab": {
          "base_uri": "https://localhost:8080/",
          "height": 513
        },
        "id": "Rami6hMqgxXA",
        "outputId": "62d66a9c-e1fb-4a4d-c26f-5ab65e134ca7"
      },
      "source": [
        "biesp1 = plotbihistogram(bigram_esp1)\n",
        "plt.show()\n",
        "biesp2 = plotbihistogram(bigram_esp2)"
      ],
      "execution_count": null,
      "outputs": [
        {
          "output_type": "display_data",
          "data": {
            "image/png": "[encoded data removed]",
            "text/plain": [
              "<Figure size 432x288 with 1 Axes>"
            ]
          },
          "metadata": {
            "needs_background": "light"
          }
        },
        {
          "output_type": "display_data",
          "data": {
            "image/png": "[encoded data removed]",
            "text/plain": [
              "<Figure size 432x288 with 1 Axes>"
            ]
          },
          "metadata": {
            "needs_background": "light"
          }
        }
      ]
    },
    {
      "cell_type": "code",
      "metadata": {
        "colab": {
          "base_uri": "https://localhost:8080/",
          "height": 513
        },
        "id": "N4CWY2WRo-7X",
        "outputId": "1069d6e4-e136-45f4-a4d5-bf680c67cd09"
      },
      "source": [
        "\n",
        "bipt1 = plotbihistogram(bigram_pt1)\n",
        "plt.show()\n",
        "bipt2 = plotbihistogram(bigram_pt2)"
      ],
      "execution_count": null,
      "outputs": [
        {
          "output_type": "display_data",
          "data": {
            "image/png": "[encoded data removed]",
            "text/plain": [
              "<Figure size 432x288 with 1 Axes>"
            ]
          },
          "metadata": {
            "needs_background": "light"
          }
        },
        {
          "output_type": "display_data",
          "data": {
            "image/png": "[encoded data removed]",
            "text/plain": [
              "<Figure size 432x288 with 1 Axes>"
            ]
          },
          "metadata": {
            "needs_background": "light"
          }
        }
      ]
    },
    {
      "cell_type": "markdown",
      "metadata": {
        "id": "UNe02SvGuRFz"
      },
      "source": [
        "However topics are not of same type. we can see similarity in bigrams."
      ]
    },
    {
      "cell_type": "markdown",
      "metadata": {
        "id": "hrbs7jD4spVM"
      },
      "source": [
        "It is giving same result as before that  the bigram frequency is a good feature for distinguishing languages, but not for distinguishing topics as bigrams are similar across different topics but different across languages."
      ]
    },
    {
      "cell_type": "code",
      "metadata": {
        "id": "SwSnlx1oxcRu"
      },
      "source": [
        "# Trigrams\n",
        "trigram_esp1 = Counter(ngrams(esp1,3)) # bigrams\n",
        "\n",
        "trigram_esp2 = Counter(ngrams(esp2,3))\n",
        "\n",
        "trigram_pt1 = Counter(ngrams(pt1,3))\n",
        "\n",
        "trigram_pt2 = Counter(ngrams(pt2,3))"
      ],
      "execution_count": null,
      "outputs": []
    },
    {
      "cell_type": "code",
      "metadata": {
        "id": "G8jB9inoHeDV"
      },
      "source": [
        "def plottrihistogram(ngram):\n",
        "  freqx = np.zeros(26)\n",
        "  freqy = np.zeros(26)\n",
        "  freqz = np.zeros(26)\n",
        "\n",
        "  for ii in range(26):\n",
        "        freqx[ii] = ngram[(chr(ord('a')+ii))]\n",
        "  \n",
        "  for jj in range(26):\n",
        "        freqy[jj] = ngram[(chr(ord('a')+jj))]\n",
        "                           \n",
        "  for kk in range(26):\n",
        "        freqz[kk] = ngram[(chr(ord('a')+kk))]\n",
        "  \n",
        "  return (freqx,freqy,freqz)"
      ],
      "execution_count": null,
      "outputs": []
    },
    {
      "cell_type": "code",
      "metadata": {
        "colab": {
          "base_uri": "https://localhost:8080/",
          "height": 35
        },
        "id": "kI2rjIWjvFjX",
        "outputId": "177d6b0a-75d5-4908-cd14-fdcbcb35c870"
      },
      "source": [
        "\"\"\"x1, y1, z1 = plottrihistogram(trigram_esp1)\n",
        "plt. contour(x1, y1, z1, 20, cmap='RdGy');\n",
        "plt.show()\"\"\""
      ],
      "execution_count": null,
      "outputs": [
        {
          "output_type": "execute_result",
          "data": {
            "application/vnd.google.colaboratory.intrinsic+json": {
              "type": "string"
            },
            "text/plain": [
              "\"x1, y1, z1 = plottrihistogram(trigram_esp1)\\nplt. contour(x1, y1, z1, 20, cmap='RdGy');\\nplt.show()\""
            ]
          },
          "metadata": {},
          "execution_count": 1
        }
      ]
    },
    {
      "cell_type": "code",
      "metadata": {
        "colab": {
          "base_uri": "https://localhost:8080/",
          "height": 35
        },
        "id": "h5UUYlPF14Qf",
        "outputId": "d18a702b-8498-42d9-9837-2834df036612"
      },
      "source": [
        " \"\"\"triesp1 = plottrihistogram(trigram_esp1)\n",
        "plt.show()\n",
        "triesp2 = plottrihistogram(trigram_esp2)\"\"\""
      ],
      "execution_count": null,
      "outputs": [
        {
          "output_type": "execute_result",
          "data": {
            "application/vnd.google.colaboratory.intrinsic+json": {
              "type": "string"
            },
            "text/plain": [
              "'triesp1 = plottrihistogram(trigram_esp1)\\nplt.show()\\ntriesp2 = plottrihistogram(trigram_esp2)'"
            ]
          },
          "metadata": {},
          "execution_count": 2
        }
      ]
    },
    {
      "cell_type": "code",
      "metadata": {
        "id": "khLl3ky7Gjop"
      },
      "source": [
        "x1,y1,z1 = "
      ],
      "execution_count": null,
      "outputs": []
    },
    {
      "cell_type": "code",
      "metadata": {
        "id": "RuQzY9bC24mM"
      },
      "source": [
        "def plotbihistogram(ngram):\n",
        "  freq = np.zeros((26,26))\n",
        "  for ii in range(26):\n",
        "    for jj in range(26):\n",
        "      for kk in range(26):\n",
        "        freq[ii,jj,kk] = ngram[(chr(ord('a')+ii), chr(ord('a')+jj), chr(ord('a')+kk))]\n",
        "  return freq"
      ],
      "execution_count": null,
      "outputs": []
    },
    {
      "cell_type": "code",
      "metadata": {
        "id": "Y8RcQNbHFTSw"
      },
      "source": [
        "bieng1 = plotbihistogram(bigram_eng1)\n",
        "plt.show()\n",
        "bieng2 = plotbihistogram(bigram_eng2)"
      ],
      "execution_count": null,
      "outputs": []
    },
    {
      "cell_type": "code",
      "metadata": {
        "id": "QPGGoGd0Cx-v"
      },
      "source": [
        ""
      ],
      "execution_count": null,
      "outputs": []
    },
    {
      "cell_type": "markdown",
      "metadata": {
        "id": "xDkaZtbbN4FK"
      },
      "source": [
        "Some questions to explore:\n",
        "1. Which is the best combination of features?\n",
        "2. How would you test or visualize four or more features?\n",
        "3. Can you come up with your own features?\n",
        "4. Will these features work for different classes other than 0 and 1?\n",
        "5. What will happen if we take more that two classes at a time?"
      ]
    },
    {
      "cell_type": "code",
      "metadata": {
        "colab": {
          "base_uri": "https://localhost:8080/"
        },
        "id": "7rM-cY7XOcGy",
        "outputId": "4e9a2aef-0060-430c-925f-7495d2f19f2e"
      },
      "source": [
        "from keras.datasets import mnist\n",
        " \n",
        "#loading the dataset\n",
        "(train_X, train_y), (test_X, test_y) = mnist.load_data()"
      ],
      "execution_count": null,
      "outputs": [
        {
          "output_type": "stream",
          "name": "stdout",
          "text": [
            "Downloading data from https://storage.googleapis.com/tensorflow/tf-keras-datasets/mnist.npz\n",
            "11493376/11490434 [==============================] - 0s 0us/step\n",
            "11501568/11490434 [==============================] - 0s 0us/step\n"
          ]
        }
      ]
    },
    {
      "cell_type": "code",
      "metadata": {
        "id": "njF1E_xJOr-1"
      },
      "source": [
        "no1 = train_X[train_y==1,:,:]\n",
        "no0 = train_X[train_y==0,:,:]"
      ],
      "execution_count": null,
      "outputs": []
    },
    {
      "cell_type": "markdown",
      "metadata": {
        "id": "JZngCN3iN-tM"
      },
      "source": [
        "Which is the best combination of features?"
      ]
    },
    {
      "cell_type": "code",
      "metadata": {
        "id": "uIAuS_xhOBwP"
      },
      "source": [
        "# Let's plot scatter plot for combination of each features\n",
        "# Sum and hull\n",
        "plt.scatter(sum0, hull0, alpha=0.1)\n",
        "plt.scatter(sum1, hull1, alpha=0.1)\n",
        "plt.xlabel('Sum')\n",
        "plt.ylabel('Hull')\n",
        "plt.legend(['0','1'])\n",
        "plt.title(\"Sum Vs Hull\")\n",
        "plt.show()\n",
        "\n",
        "# Sum and hole\n",
        "plt.scatter(sum0, hole0, alpha=0.1)\n",
        "plt.scatter(sum1, hole1, alpha=0.1)\n",
        "plt.xlabel('Sum');\n",
        "plt.ylabel('Hole');\n",
        "plt.legend(['0','1'])\n",
        "plt.title(\"Sum Vs Hole\")\n",
        "plt.show()\n",
        "\n",
        "# Hole and boundary\n",
        "plt.scatter(bound0, hole0, alpha=0.1)\n",
        "plt.scatter(bound1, hole1, alpha=0.1)\n",
        "plt.xlabel('Boundary');\n",
        "plt.ylabel('Hole');\n",
        "plt.legend(['0','1'])\n",
        "plt.title(\"Hole Vs Bondary\")\n",
        "plt.show()\n",
        "\n",
        "# Hull and boundary\n",
        "plt.scatter(bound0,hull0, alpha=0.1)\n",
        "plt.scatter(bound1,hull1, alpha=0.1)\n",
        "plt.xlabel(\"Boundary\")\n",
        "plt.ylabel(\"Hull\")\n",
        "plt.legend(['0','1'])\n",
        "plt.title(\"Hull Vs Boundary\")\n",
        "plt.show()\n",
        "\n",
        "\n",
        "# Sum and boundary\n",
        "plt.scatter(sum0,bound0,alpha=0.1)\n",
        "plt.scatter(sum1,bound1,alpha=0.1)\n",
        "plt.xlabel(\"Sum\")\n",
        "plt.ylabel(\"Boundary\")\n",
        "plt.legend(['0','1'])\n",
        "plt.title(\"Sum Vs Boundary\")\n",
        "plt.show()"
      ],
      "execution_count": null,
      "outputs": []
    },
    {
      "cell_type": "markdown",
      "metadata": {
        "id": "2kue35YkSXag"
      },
      "source": [
        "Sum and Hole are best combination of features."
      ]
    },
    {
      "cell_type": "markdown",
      "metadata": {
        "id": "-8NZZj_pSrC2"
      },
      "source": [
        "How would you test or visualize four or more features?"
      ]
    },
    {
      "cell_type": "code",
      "metadata": {
        "id": "oqzzSdlvSx0v"
      },
      "source": [
        "cl1 = ['class 1']*len(sum1)\n",
        "cl0 = ['class 0']*len(sum0)\n",
        "\n",
        "df = pd.DataFrame(list(zip(np.concatenate((hole0, hole0)), np.concatenate((sum1,sum0)), \n",
        "                           np.concatenate((bound1,bound0)), np.concatenate((cl1, cl0)), np.concatenate((hull0, hull1)))),\n",
        "               columns =['Hole', 'Sum', 'Boundary', 'Class','Size'])\n",
        "df.head()\n",
        "fig = px.scatter_3d(df, x='Hole', y='Sum', z='Boundary', color='Class', size='Size', opacity=0.1)\n",
        "fig.show()"
      ],
      "execution_count": null,
      "outputs": []
    },
    {
      "cell_type": "markdown",
      "metadata": {
        "id": "R1mBqFGTowp8"
      },
      "source": [
        "4. Will these features work for different classes other than 0 and 1?"
      ]
    },
    {
      "cell_type": "code",
      "metadata": {
        "id": "0nR0PsHsrJih"
      },
      "source": [
        ""
      ],
      "execution_count": null,
      "outputs": []
    }
  ]
}